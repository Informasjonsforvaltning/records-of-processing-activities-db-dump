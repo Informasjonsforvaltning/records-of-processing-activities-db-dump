{
 "cells": [
  {
   "cell_type": "code",
   "execution_count": 11,
   "id": "44ca050b",
   "metadata": {},
   "outputs": [
    {
     "ename": "SyntaxError",
     "evalue": "invalid syntax (<unknown>, line 2)",
     "output_type": "error",
     "traceback": [
      "Traceback \u001b[0;36m(most recent call last)\u001b[0m:\n",
      "  File \u001b[1;32m\"/home/stigbd/.cache/pypoetry/virtualenvs/records-of-processing-activities-etl-c2xDXnY8-py3.9/lib/python3.9/site-packages/IPython/core/interactiveshell.py\"\u001b[0m, line \u001b[1;32m3441\u001b[0m, in \u001b[1;35mrun_code\u001b[0m\n    exec(code_obj, self.user_global_ns, self.user_ns)\n",
      "  File \u001b[1;32m\"<ipython-input-11-347d428d8f90>\"\u001b[0m, line \u001b[1;32m6\u001b[0m, in \u001b[1;35m<module>\u001b[0m\n    dictionary = ast. literal_eval(contents)\n",
      "  File \u001b[1;32m\"/home/stigbd/.pyenv/versions/3.9.1/lib/python3.9/ast.py\"\u001b[0m, line \u001b[1;32m62\u001b[0m, in \u001b[1;35mliteral_eval\u001b[0m\n    node_or_string = parse(node_or_string, mode='eval')\n",
      "\u001b[0;36m  File \u001b[0;32m\"/home/stigbd/.pyenv/versions/3.9.1/lib/python3.9/ast.py\"\u001b[0;36m, line \u001b[0;32m50\u001b[0;36m, in \u001b[0;35mparse\u001b[0;36m\u001b[0m\n\u001b[0;31m    return compile(source, filename, mode, flags,\u001b[0m\n",
      "\u001b[0;36m  File \u001b[0;32m\"<unknown>\"\u001b[0;36m, line \u001b[0;32m2\u001b[0m\n\u001b[0;31m    { \"_id\" : ObjectId(\"5e205f0aac002d0011619352\"), \"id\" : \"920125298\", \"__v\" : 0, \"createdAt\" : ISODate(\"2020-01-16T13:03:06.105Z\"), \"dataControllerRepresentative\" : { \"name\" : \"Lars Bjerke\", \"address\" : \"\", \"email\" : \"\", \"phone\" : \"\" }, \"dataControllerRepresentativeInEU\" : { \"name\" : \"\", \"address\" : \"\", \"email\" : \"\", \"phone\" : \"\" }, \"dataProtectionOfficer\" : { \"name\" : \"Ole Henrik Frøland\", \"address\" : \"\", \"email\" : \"\", \"phone\" : \"\" }, \"updatedAt\" : ISODate(\"2020-01-16T13:03:53.116Z\") }\u001b[0m\n\u001b[0m    ^\u001b[0m\n\u001b[0;31mSyntaxError\u001b[0m\u001b[0;31m:\u001b[0m invalid syntax\n"
     ]
    }
   ],
   "source": [
    "import ast\n",
    "import json\n",
    "import pandas as pd\n",
    "with open('../files/db_organisations.json', \"r\") as f:\n",
    "    contents = f.read()\n",
    "    dictionary = ast. literal_eval(contents)\n",
    "\n",
    "    # pd.DataFrame.from_dict(data)"
   ]
  }
 ],
 "metadata": {
  "kernelspec": {
   "display_name": "Python 3",
   "language": "python",
   "name": "python3"
  },
  "language_info": {
   "codemirror_mode": {
    "name": "ipython",
    "version": 3
   },
   "file_extension": ".py",
   "mimetype": "text/x-python",
   "name": "python",
   "nbconvert_exporter": "python",
   "pygments_lexer": "ipython3",
   "version": "3.9.1"
  }
 },
 "nbformat": 4,
 "nbformat_minor": 5
}
